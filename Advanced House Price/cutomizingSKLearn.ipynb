{
 "cells": [
  {
   "cell_type": "markdown",
   "metadata": {},
   "source": [
    "### Customizing Sklearn\n",
    "- Sklearn is a ML library based of Classes and Objects\n",
    "- There are multiple important sklearn classes, such as:\n",
    "  - Estimators\n",
    "  - Predictors\n",
    "  - Transformers\n",
    "  - Model\n",
    "\n",
    "#### Sklearn Estimators:\n",
    "A lot of sklearn classes are based on this. Meaning they inherit from the estimator class. Estimator needs following methods:\n",
    "- .fit(X,y) : fitting the estimator to X and y\n",
    "- .get_params() : return the parameters of the estimator (here parameters refers to hyperparameters, meaning they arent trainable by the model, you have to set them by yourself)\n",
    "- .set_params(**params) : change the parameters of the estimator\n",
    "\n",
    "**Sklearn Predictor adds:**\n",
    "- .predict(X)\n",
    "\n",
    "**Sklearn Transformer adds:**\n",
    "- .transform(X,y=None)\n",
    "\n",
    "**Sklearn Model Adds:**\n",
    "- .score(X,y)\n"
   ]
  },
  {
   "cell_type": "markdown",
   "metadata": {},
   "source": [
    "### Examples Sklearn Estimator:"
   ]
  },
  {
   "cell_type": "markdown",
   "metadata": {},
   "source": [
    "A dummy estimator that fit the mean of the median of the data\n",
    "- median : the parameter of the estimator (this is indeed the hyperparameter)\n",
    "- by Sklearn's documentation its a convention to use underscore in parameters, which are trainable! For example: **value_**!"
   ]
  },
  {
   "cell_type": "code",
   "execution_count": 38,
   "metadata": {},
   "outputs": [],
   "source": [
    "import numpy as np\n",
    "class MyDummyEstimator:\n",
    "    # defining the constructor\n",
    "    def __init__(self, use_median=False):\n",
    "        self.use_median = use_median\n",
    "    \n",
    "    def fit (self, X,y):\n",
    "        if self.use_median:\n",
    "            self.value_ = np.median(y)\n",
    "        else:\n",
    "            self.value_ = np.mean(y)\n",
    "        return self # returning self is mandatory\n",
    "\n",
    "    \n",
    "    def get_params(self,deep=True):\n",
    "        return dict(use_median = self.use_median)\n",
    "    \n",
    "    def set_params(self, **parameters):\n",
    "        for parameter, value in parameters.items():\n",
    "            setattr(self,parameter,value)\n",
    "        return self"
   ]
  },
  {
   "cell_type": "markdown",
   "metadata": {},
   "source": [
    "- The methods **.set_params(), .get_params()** can be considered as boilerplate code, as you can inherit them from **BaseEstimator**!"
   ]
  },
  {
   "cell_type": "code",
   "execution_count": 39,
   "metadata": {},
   "outputs": [],
   "source": [
    "from sklearn.base import BaseEstimator\n",
    "\n",
    "class MyDummyEstimator(BaseEstimator):\n",
    "    # defining the constructor\n",
    "    def __init__(self, use_median=False):\n",
    "        self.use_median = use_median\n",
    "    \n",
    "    def fit (self, X,y):\n",
    "        if self.use_median:\n",
    "            self.value_ = np.median(y)\n",
    "        else:\n",
    "            self.value_ = np.mean(y)\n",
    "        return self # returning self is mandatory"
   ]
  },
  {
   "cell_type": "code",
   "execution_count": 40,
   "metadata": {},
   "outputs": [
    {
     "data": {
      "text/plain": [
       "{'use_median': True}"
      ]
     },
     "execution_count": 40,
     "metadata": {},
     "output_type": "execute_result"
    }
   ],
   "source": [
    "est = MyDummyEstimator(use_median=True)\n",
    "est.get_params()"
   ]
  },
  {
   "cell_type": "markdown",
   "metadata": {},
   "source": [
    "- See, now you can use get_params and set_params as your estimator inherits from BaseEstimator"
   ]
  },
  {
   "cell_type": "markdown",
   "metadata": {},
   "source": [
    "#### Example Predictor\n",
    "Now we wanna add predict funtionality"
   ]
  },
  {
   "cell_type": "code",
   "execution_count": 41,
   "metadata": {},
   "outputs": [],
   "source": [
    "class MyDummyPredictor(BaseEstimator):\n",
    "    # defining the constructor\n",
    "    def __init__(self, use_median=False):\n",
    "        self.use_median = use_median\n",
    "    \n",
    "    def fit (self, X,y):\n",
    "        if self.use_median:\n",
    "            self.value_ = np.median(y)\n",
    "        else:\n",
    "            self.value_ = np.mean(y)\n",
    "        return self # returning self is mandatory\n",
    "        \n",
    "    def predict(self, X):\n",
    "        out = np.empty(len(X))\n",
    "        out.fill(self.value_)\n",
    "        return out"
   ]
  },
  {
   "cell_type": "code",
   "execution_count": 42,
   "metadata": {},
   "outputs": [],
   "source": [
    "X = np.arange(60).reshape([20,3])\n",
    "y = np.arange(20)\n",
    "y[-1]=200 # just adding an outlier"
   ]
  },
  {
   "cell_type": "code",
   "execution_count": 43,
   "metadata": {},
   "outputs": [
    {
     "data": {
      "text/plain": [
       "array([18.55, 18.55, 18.55, 18.55, 18.55, 18.55, 18.55, 18.55, 18.55,\n",
       "       18.55, 18.55, 18.55, 18.55, 18.55, 18.55, 18.55, 18.55, 18.55,\n",
       "       18.55, 18.55])"
      ]
     },
     "execution_count": 43,
     "metadata": {},
     "output_type": "execute_result"
    }
   ],
   "source": [
    "pred = MyDummyPredictor(use_median=False)\n",
    "pred = pred.fit(X,y)\n",
    "pred.predict(X)"
   ]
  },
  {
   "cell_type": "code",
   "execution_count": 44,
   "metadata": {},
   "outputs": [
    {
     "data": {
      "text/plain": [
       "array([9.5, 9.5, 9.5, 9.5, 9.5, 9.5, 9.5, 9.5, 9.5, 9.5, 9.5, 9.5, 9.5,\n",
       "       9.5, 9.5, 9.5, 9.5, 9.5, 9.5, 9.5])"
      ]
     },
     "execution_count": 44,
     "metadata": {},
     "output_type": "execute_result"
    }
   ],
   "source": [
    "pred = MyDummyPredictor(use_median=True)\n",
    "pred = pred.fit(X,y)\n",
    "pred.predict(X)"
   ]
  },
  {
   "cell_type": "markdown",
   "metadata": {},
   "source": [
    "#### Example Model:"
   ]
  },
  {
   "cell_type": "code",
   "execution_count": 45,
   "metadata": {},
   "outputs": [],
   "source": [
    "from sklearn.metrics import r2_score\n",
    "\n",
    "class MyDummyModel(BaseEstimator):\n",
    "    # defining the constructor\n",
    "    def __init__(self, use_median=False):\n",
    "        self.use_median = use_median\n",
    "    \n",
    "    def fit (self, X,y):\n",
    "        if self.use_median:\n",
    "            self.value_ = np.median(y)\n",
    "        else:\n",
    "            self.value_ = np.mean(y)\n",
    "        return self # returning self is mandatory\n",
    "        \n",
    "    def predict(self, X):\n",
    "        out = np.empty(len(X))\n",
    "        out.fill(self.value_)\n",
    "        return out\n",
    "    \n",
    "    def score(self, X,y):\n",
    "        pred = self.predict(X)\n",
    "        return r2_score(y,pred)\n"
   ]
  },
  {
   "cell_type": "code",
   "execution_count": 46,
   "metadata": {},
   "outputs": [
    {
     "data": {
      "text/plain": [
       "-0.046499909870142186"
      ]
     },
     "execution_count": 46,
     "metadata": {},
     "output_type": "execute_result"
    }
   ],
   "source": [
    "model = MyDummyModel(use_median=True)\n",
    "\n",
    "model = model.fit(X,y)\n",
    "model.score(X,y)"
   ]
  },
  {
   "cell_type": "markdown",
   "metadata": {},
   "source": [
    "- You can use your **model** in model validation schemes such as **cross-val-score**"
   ]
  },
  {
   "cell_type": "code",
   "execution_count": 47,
   "metadata": {},
   "outputs": [
    {
     "data": {
      "text/plain": [
       "array([-363.378125  , -212.878125  , -102.378125  ,  -31.878125  ,\n",
       "         -0.48610102])"
      ]
     },
     "execution_count": 47,
     "metadata": {},
     "output_type": "execute_result"
    }
   ],
   "source": [
    "from sklearn.model_selection import cross_val_score\n",
    "cross_val_score(MyDummyModel(), X, y)"
   ]
  },
  {
   "cell_type": "markdown",
   "metadata": {},
   "source": [
    "---"
   ]
  },
  {
   "cell_type": "markdown",
   "metadata": {},
   "source": [
    "#### Mixin in Sklearn\n",
    "\n",
    "**Supervised Models:**\n",
    "- base.RegressorMixin\n",
    "- base.ClassifierMixin\n",
    "\n",
    "**Clustering Models:**\n",
    "- base.biclusterMixin\n",
    "- base.clusterMixin\n",
    "\n",
    "**Feature Transformation and Selection:**\n",
    "- base.TransformerMixin\n",
    "- feature_selection.SelectorMixin\n",
    "\n",
    "There are many mixin that can be added which arent available through sklearn!\n",
    "\n"
   ]
  },
  {
   "cell_type": "markdown",
   "metadata": {},
   "source": [
    "Now, say we wanna make a transformer that scales the data. To do this we can use **BaseEstimator** and **TransformerMixin** as our superclasses!"
   ]
  },
  {
   "cell_type": "code",
   "execution_count": 48,
   "metadata": {},
   "outputs": [],
   "source": [
    "import numpy as np\n",
    "from sklearn.base import BaseEstimator, TransformerMixin\n",
    "\n",
    "class Standarizer(BaseEstimator, TransformerMixin):\n",
    "    def __init__(self, mean_after_transform=0):\n",
    "        self.mean_after_transform = mean_after_transform\n",
    "    \n",
    "\n",
    "\n",
    "    def fit(self, X, y=None):\n",
    "        self.mean_ = np.mean(X, axis=0)\n",
    "        self.std_ = np.std(X, axis=0)\n",
    "        return self\n",
    "    \n",
    "    def transform(self, X):\n",
    "        return (X - self.mean_) / self.std_ + self.mean_after_transform"
   ]
  },
  {
   "cell_type": "code",
   "execution_count": 49,
   "metadata": {},
   "outputs": [
    {
     "data": {
      "text/plain": [
       "array([[-1.22474487, -1.22474487, -1.22474487],\n",
       "       [ 0.        ,  0.        ,  0.        ],\n",
       "       [ 1.22474487,  1.22474487,  1.22474487]])"
      ]
     },
     "execution_count": 49,
     "metadata": {},
     "output_type": "execute_result"
    }
   ],
   "source": [
    "X = np.arange(9).reshape(3,3)\n",
    "st = Standarizer().fit(X)\n",
    "st.transform(X)"
   ]
  },
  {
   "cell_type": "markdown",
   "metadata": {},
   "source": [
    "- we can use **.fit_transform()** as we have inherited TransformerMixin"
   ]
  },
  {
   "cell_type": "code",
   "execution_count": 50,
   "metadata": {},
   "outputs": [
    {
     "data": {
      "text/plain": [
       "array([[-1.22474487, -1.22474487, -1.22474487],\n",
       "       [ 0.        ,  0.        ,  0.        ],\n",
       "       [ 1.22474487,  1.22474487,  1.22474487]])"
      ]
     },
     "execution_count": 50,
     "metadata": {},
     "output_type": "execute_result"
    }
   ],
   "source": [
    "st.fit_transform(X)"
   ]
  },
  {
   "cell_type": "markdown",
   "metadata": {},
   "source": [
    "#### Example: Models"
   ]
  },
  {
   "cell_type": "markdown",
   "metadata": {},
   "source": [
    "Implements scoring for:\n",
    "- Regressor (RegressorMixin)\n",
    "- Classifier (ClassifierMixin)\n",
    "\n",
    "The mixin also add other important variable Sklearn uses internally. Regression is very straight forward, but Classfiers need some extra methods."
   ]
  },
  {
   "cell_type": "markdown",
   "metadata": {},
   "source": [
    "To use Regressor, you need to implement predict method"
   ]
  },
  {
   "cell_type": "code",
   "execution_count": 53,
   "metadata": {},
   "outputs": [],
   "source": [
    "from sklearn.base import RegressorMixin\n",
    "\n",
    "class MyDummyRegressor(BaseEstimator, RegressorMixin):\n",
    "    # defining the constructor\n",
    "    def __init__(self, use_median=False):\n",
    "        self.use_median = use_median\n",
    "    \n",
    "    def fit (self, X ,y):\n",
    "        if self.use_median:\n",
    "            self.value_ = np.median(y)\n",
    "        else:\n",
    "            self.value_ = np.mean(y)\n",
    "        return self # returning self is mandatory\n",
    "        \n",
    "    def predict(self, X):\n",
    "        out = np.empty(len(X))\n",
    "        out.fill(self.value_)\n",
    "        return out"
   ]
  },
  {
   "cell_type": "code",
   "execution_count": null,
   "metadata": {},
   "outputs": [],
   "source": [
    "dummy = MyDummyRegressor().fit(X,y)\n",
    "dummy.score(X,y) # inherited from regressorMixin"
   ]
  },
  {
   "cell_type": "markdown",
   "metadata": {},
   "source": [
    "For classfication you need to implement:\n",
    "- predict\n",
    "- predict_proba,predict_log_proba or decision_function"
   ]
  }
 ],
 "metadata": {
  "interpreter": {
   "hash": "6f2633947071d0c530ad3c99a8d87f7cecc29e8d49a0e8454cfd238047c3ac35"
  },
  "kernelspec": {
   "display_name": "Python 3.9.7 ('base')",
   "language": "python",
   "name": "python3"
  },
  "language_info": {
   "codemirror_mode": {
    "name": "ipython",
    "version": 3
   },
   "file_extension": ".py",
   "mimetype": "text/x-python",
   "name": "python",
   "nbconvert_exporter": "python",
   "pygments_lexer": "ipython3",
   "version": "3.9.7"
  },
  "orig_nbformat": 4
 },
 "nbformat": 4,
 "nbformat_minor": 2
}
