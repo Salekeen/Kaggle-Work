{
 "cells": [
  {
   "cell_type": "markdown",
   "metadata": {},
   "source": [
    "- Sklearn is a ML library based of Classes and Objects\n",
    "- There are multiple important sklearn classes, such as:\n",
    "  - Estimators\n",
    "  - Predictors\n",
    "  - Transformers\n",
    "  - Model\n",
    "\n",
    "#### Sklearn Estimators:\n",
    "A lot of sklearn classes are based on this. Meaning they inherit from the estimator class. Estimator needs following methods:\n",
    "- .fit(X,y) : fitting the estimator to X and y\n",
    "- .get_params() : return the parameters of the estimator (here parameters refers to hyperparameters, meaning they arent trainable by the model, you have to set them by yourself)\n",
    "- .set_params(**params) : change the parameters of the estimator\n",
    "\n",
    "**Sklearn Predictor adds:**\n",
    "- .predict(X)\n",
    "\n",
    "**Sklearn Transformer adds:**\n",
    "- .transform(X,y=None)\n",
    "\n",
    "**Sklearn Model Adds:**\n",
    "- .score(X,y)\n"
   ]
  },
  {
   "cell_type": "markdown",
   "metadata": {},
   "source": [
    "### Examples Sklearn Estimator:"
   ]
  },
  {
   "cell_type": "code",
   "execution_count": null,
   "metadata": {},
   "outputs": [],
   "source": [
    "class MyDummyEstimator:\n",
    "    # defining the constructor\n",
    "    def __init__(self,use_median=False):\n",
    "        self.use_median = use_median\n",
    "    "
   ]
  }
 ],
 "metadata": {
  "interpreter": {
   "hash": "6f2633947071d0c530ad3c99a8d87f7cecc29e8d49a0e8454cfd238047c3ac35"
  },
  "kernelspec": {
   "display_name": "Python 3.9.7 ('base')",
   "language": "python",
   "name": "python3"
  },
  "language_info": {
   "name": "python",
   "version": "3.9.7"
  },
  "orig_nbformat": 4
 },
 "nbformat": 4,
 "nbformat_minor": 2
}
